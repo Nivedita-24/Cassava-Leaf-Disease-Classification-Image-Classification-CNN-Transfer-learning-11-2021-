{
 "cells": [
  {
   "cell_type": "markdown",
   "metadata": {
    "id": "c7SOHGLwcUk7"
   },
   "source": [
    "## Deploying an Image Classification Web App with Python"
   ]
  },
  {
   "cell_type": "code",
   "execution_count": 1,
   "metadata": {
    "id": "mn5dH7CScT7Y"
   },
   "outputs": [],
   "source": [
    "# !pip install -q pyngrok\n",
    "# !pip install -q streamlit\n",
    "# !pip install -q streamlit_ace\n",
    "# !pip install watchdog"
   ]
  },
  {
   "cell_type": "markdown",
   "metadata": {
    "id": "uZLrW88wdjgs"
   },
   "source": [
    "## Creating a Streamlit Web App"
   ]
  },
  {
   "cell_type": "code",
   "execution_count": 2,
   "metadata": {
    "id": "jyf3L0JeerVu"
   },
   "outputs": [
    {
     "name": "stdout",
     "output_type": "stream",
     "text": [
      "Overwriting app.py\n"
     ]
    }
   ],
   "source": [
    "%%writefile app.py\n",
    "\n",
    "import tensorflow as tf\n",
    "import streamlit as st\n",
    "from PIL import Image, ImageOps\n",
    "import numpy as np\n",
    "\n",
    "@st.cache(allow_output_mutation=True)\n",
    "def load_model():\n",
    "    model=tf.keras.models.load_model('cnn_casava_leaves.hdf5')\n",
    "    return model\n",
    "with st.spinner('Model is being loaded..'):\n",
    "    model=load_model()\n",
    "\n",
    "st.write(\"\"\"\n",
    "         # Cassava Leaf Classification\n",
    "         \"\"\"\n",
    "         )\n",
    "\n",
    "file = st.file_uploader(\"Please upload an image file\", type=[\"jpg\", \"png\"])\n",
    "\n",
    "import cv2\n",
    "from PIL import Image, ImageOps\n",
    "import numpy as np\n",
    "\n",
    "st.set_option('deprecation.showfileUploaderEncoding', False)\n",
    "def import_and_predict(image_data, model):\n",
    "    \n",
    "        size = (133,100)    \n",
    "        image = ImageOps.fit(image_data, size, Image.ANTIALIAS)\n",
    "        image = np.asarray(image)\n",
    "        img = cv2.cvtColor(image, cv2.COLOR_BGR2RGB)\n",
    "#         img_resize = (cv2.resize(img, dsize=(100, 133),    interpolation=cv2.INTER_CUBIC))/255.       \n",
    "        img_reshape = img[np.newaxis,...]\n",
    "    \n",
    "        prediction = model.predict(img_reshape)\n",
    "        \n",
    "        return prediction\n",
    "\n",
    "    \n",
    "if file is None:\n",
    "    st.text(\"Please upload an image file\")\n",
    "else:\n",
    "    image = Image.open(file)\n",
    "    st.image(image, use_column_width=True)\n",
    "    prediction = import_and_predict(image, model)\n",
    "    \n",
    "    if np.argmax(prediction) == 0:\n",
    "        st.write(\"Cassava Bacterial Blight (CBB)\")\n",
    "    elif np.argmax(prediction) == 1:\n",
    "        st.write(\"Cassava Brown Streak Disease (CBSD)\")\n",
    "    elif np.argmax(prediction) == 2:\n",
    "        st.write(\"Cassava Green Mottle (CGM)\")\n",
    "    elif np.argmax(prediction) == 3:\n",
    "        st.write(\"Cassava Mosaic Disease (CMD)\")      \n",
    "    else:\n",
    "        st.write(\"Healthy\")\n",
    "    \n",
    "    st.text(\"Probability (0: CBB, 1: CBSD, 2: CGM, 3: CMD, 4: Healthy\")\n",
    "    st.write(prediction)\n",
    "    "
   ]
  },
  {
   "cell_type": "code",
   "execution_count": null,
   "metadata": {},
   "outputs": [],
   "source": []
  },
  {
   "cell_type": "code",
   "execution_count": null,
   "metadata": {},
   "outputs": [],
   "source": []
  }
 ],
 "metadata": {
  "colab": {
   "collapsed_sections": [],
   "name": "Web_App_imageClassification.ipynb",
   "provenance": []
  },
  "kernelspec": {
   "display_name": "Python 3",
   "language": "python",
   "name": "python3"
  },
  "language_info": {
   "codemirror_mode": {
    "name": "ipython",
    "version": 3
   },
   "file_extension": ".py",
   "mimetype": "text/x-python",
   "name": "python",
   "nbconvert_exporter": "python",
   "pygments_lexer": "ipython3",
   "version": "3.7.4"
  }
 },
 "nbformat": 4,
 "nbformat_minor": 1
}
